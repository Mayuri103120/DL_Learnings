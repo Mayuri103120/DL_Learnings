{
  "nbformat": 4,
  "nbformat_minor": 0,
  "metadata": {
    "colab": {
      "provenance": [],
      "authorship_tag": "ABX9TyPa+VL+3AMoC4Aw+rP/tcpk",
      "include_colab_link": true
    },
    "kernelspec": {
      "name": "python3",
      "display_name": "Python 3"
    },
    "language_info": {
      "name": "python"
    },
    "accelerator": "GPU",
    "gpuClass": "standard"
  },
  "cells": [
    {
      "cell_type": "markdown",
      "metadata": {
        "id": "view-in-github",
        "colab_type": "text"
      },
      "source": [
        "<a href=\"https://colab.research.google.com/github/Mayuri103120/DL_Learnings/blob/main/DL_lab1.ipynb\" target=\"_parent\"><img src=\"https://colab.research.google.com/assets/colab-badge.svg\" alt=\"Open In Colab\"/></a>"
      ]
    },
    {
      "cell_type": "code",
      "execution_count": 1,
      "metadata": {
        "id": "opWk3uMErg6Q"
      },
      "outputs": [],
      "source": [
        "import numpy as np #math --> CPU\n",
        "import torch #DL --> GPU \n",
        "import torchvision #datasets\n"
      ]
    },
    {
      "cell_type": "code",
      "source": [
        "#how numpy and pytorch work well together\n",
        "a = np.random.rand(2,3)\n",
        "b = torch.from_numpy(a) #call the fromnumpy func from torch to convert a numpy array to tensor\n",
        "\n",
        "print(a)\n",
        "print(b)\n",
        "\n",
        "#datatype of elements in the torch tensor is 64-bit floting point number"
      ],
      "metadata": {
        "colab": {
          "base_uri": "https://localhost:8080/"
        },
        "id": "U534aJ_3zss6",
        "outputId": "3171bd47-76c0-4c2f-e0e2-61a61d206ee5"
      },
      "execution_count": 2,
      "outputs": [
        {
          "output_type": "stream",
          "name": "stdout",
          "text": [
            "[[0.25080586 0.48181043 0.52566198]\n",
            " [0.25606431 0.37945757 0.02828278]]\n",
            "tensor([[0.2508, 0.4818, 0.5257],\n",
            "        [0.2561, 0.3795, 0.0283]], dtype=torch.float64)\n"
          ]
        }
      ]
    },
    {
      "cell_type": "code",
      "source": [
        "#we can perform efficient vectorized operations over diff dimensions of torch tensor\n",
        "print(b+ 10.0)\n",
        "print(torch.sin(b))\n",
        "print()\n",
        "print(b.sum())\n",
        "print()\n",
        "print(b.mean())\n",
        "print()\n",
        "print(b.shape)"
      ],
      "metadata": {
        "colab": {
          "base_uri": "https://localhost:8080/"
        },
        "id": "4Z5XH_O305jX",
        "outputId": "9eda749f-2fb1-4d54-c17d-a729aa725988"
      },
      "execution_count": 4,
      "outputs": [
        {
          "output_type": "stream",
          "name": "stdout",
          "text": [
            "tensor([[10.2508, 10.4818, 10.5257],\n",
            "        [10.2561, 10.3795, 10.0283]], dtype=torch.float64)\n",
            "tensor([[0.2482, 0.4634, 0.5018],\n",
            "        [0.2533, 0.3704, 0.0283]], dtype=torch.float64)\n",
            "\n",
            "tensor(1.9221, dtype=torch.float64)\n",
            "\n",
            "tensor(0.3203, dtype=torch.float64)\n",
            "\n",
            "torch.Size([2, 3])\n"
          ]
        }
      ]
    },
    {
      "cell_type": "code",
      "source": [
        "#checking if gpu is available to us by calling..\n",
        "torch.cuda.is_available()\n",
        "\n"
      ],
      "metadata": {
        "colab": {
          "base_uri": "https://localhost:8080/"
        },
        "id": "aMwbtpNJ2aFm",
        "outputId": "7b45492c-946c-4885-fe10-0d76b28687e0"
      },
      "execution_count": 5,
      "outputs": [
        {
          "output_type": "execute_result",
          "data": {
            "text/plain": [
              "True"
            ]
          },
          "metadata": {},
          "execution_count": 5
        }
      ]
    },
    {
      "cell_type": "code",
      "source": [
        "#to see how much of GPU we are using is via NVIDIA..\n",
        "!nvidia-smi\n",
        "#so we are connected to environment that has a Tesla gpu i.e. T4 and we haven't used much of the memory yet, only 3MiB."
      ],
      "metadata": {
        "colab": {
          "base_uri": "https://localhost:8080/"
        },
        "id": "cTsjpxS_2wf7",
        "outputId": "33db8797-088c-485f-f8d5-10605e64ab35"
      },
      "execution_count": 6,
      "outputs": [
        {
          "output_type": "stream",
          "name": "stdout",
          "text": [
            "Thu Feb  2 06:41:19 2023       \n",
            "+-----------------------------------------------------------------------------+\n",
            "| NVIDIA-SMI 510.47.03    Driver Version: 510.47.03    CUDA Version: 11.6     |\n",
            "|-------------------------------+----------------------+----------------------+\n",
            "| GPU  Name        Persistence-M| Bus-Id        Disp.A | Volatile Uncorr. ECC |\n",
            "| Fan  Temp  Perf  Pwr:Usage/Cap|         Memory-Usage | GPU-Util  Compute M. |\n",
            "|                               |                      |               MIG M. |\n",
            "|===============================+======================+======================|\n",
            "|   0  Tesla T4            Off  | 00000000:00:04.0 Off |                    0 |\n",
            "| N/A   50C    P8    10W /  70W |      3MiB / 15360MiB |      0%      Default |\n",
            "|                               |                      |                  N/A |\n",
            "+-------------------------------+----------------------+----------------------+\n",
            "                                                                               \n",
            "+-----------------------------------------------------------------------------+\n",
            "| Processes:                                                                  |\n",
            "|  GPU   GI   CI        PID   Type   Process name                  GPU Memory |\n",
            "|        ID   ID                                                   Usage      |\n",
            "|=============================================================================|\n",
            "|  No running processes found                                                 |\n",
            "+-----------------------------------------------------------------------------+\n"
          ]
        }
      ]
    },
    {
      "cell_type": "code",
      "source": [],
      "metadata": {
        "id": "slLLe44l27FV"
      },
      "execution_count": null,
      "outputs": []
    }
  ]
}